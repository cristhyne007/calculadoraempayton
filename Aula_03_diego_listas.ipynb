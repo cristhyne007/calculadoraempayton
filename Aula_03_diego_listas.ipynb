{
  "nbformat": 4,
  "nbformat_minor": 0,
  "metadata": {
    "colab": {
      "provenance": [],
      "authorship_tag": "ABX9TyN0hTPC5PJXqxwFeNtUyi8E",
      "include_colab_link": true
    },
    "kernelspec": {
      "name": "python3",
      "display_name": "Python 3"
    },
    "language_info": {
      "name": "python"
    }
  },
  "cells": [
    {
      "cell_type": "markdown",
      "metadata": {
        "id": "view-in-github",
        "colab_type": "text"
      },
      "source": [
        "<a href=\"https://colab.research.google.com/github/cristhyne007/utilizando-python/blob/main/Aula_03_diego_listas.ipynb\" target=\"_parent\"><img src=\"https://colab.research.google.com/assets/colab-badge.svg\" alt=\"Open In Colab\"/></a>"
      ]
    },
    {
      "cell_type": "markdown",
      "source": [
        "questão1"
      ],
      "metadata": {
        "id": "ZKNFOmQH5IIe"
      }
    },
    {
      "cell_type": "code",
      "execution_count": 11,
      "metadata": {
        "colab": {
          "base_uri": "https://localhost:8080/"
        },
        "id": "HFYeC4yR1ytR",
        "outputId": "93e35850-7f2f-4102-f03a-b12332935ee8"
      },
      "outputs": [
        {
          "output_type": "stream",
          "name": "stdout",
          "text": [
            "Olá!Seja bem vindo(a) ao sistema operacional Bar da lora!\n",
            "Para que ocorra o acesso, por favor, digite seu usuário: evelyn\n",
            "Para que ocorra o acesso, por favor, digite su senha: amor\n",
            "Seu Login está concluído.\n"
          ]
        }
      ],
      "source": [
        "usuarios = ['evelyn','rayssa','lívia','beatriz','alex']\n",
        "senhas = ['amor','davi','taylor','felix','ethel']\n",
        "print('Olá!Seja bem vindo(a) ao sistema operacional Bar da lora!')\n",
        "usuario = (input('Para que ocorra o acesso, por favor, digite seu usuário: '))\n",
        "senha = (input('Para que ocorra o acesso, por favor, digite su senha: '))\n",
        "\n",
        "if usuario in usuarios and senha in senhas:\n",
        "  print('Seu Login está concluído.')\n",
        "else:\n",
        "  print('Usuário ou Senha inválido.')\n",
        ""
      ]
    },
    {
      "cell_type": "code",
      "source": [
        "numeros = []\n",
        "print('Olá!Seja bem vindo(a) a este programa !')\n",
        "numero1 = input(\"Digite o  primeiro número:\")\n",
        "numero2 = input(\"Digite o  segundo número:\")\n",
        "numero3 = input(\"Digite o  terceiro número:\")\n",
        "numero4 = input(\"Digite o  quarto número:\")\n",
        "numero5 = input(\"Digite o  quinto número:\")\n",
        "numeros.append(numero1)\n",
        "numeros.append(numero2)\n",
        "numeros.append(numero3)\n",
        "numeros.append(numero4)\n",
        "numeros.append(numero5)\n",
        "print('Sua lista de números é: {}'.format(numeros))\n",
        "print('----------------------------------------')\n",
        "numero_novo = input(\"Digite um novo número: \")\n",
        "if numero_novo in numeros:\n",
        "  print('Este número já faz parte da sua lista de números.')\n",
        "else:\n",
        "  numeros.append(numero_novo)\n",
        "  print('Sua lista de números foi atualizada!')\n",
        "  print('Sua nova lista de números é {}'.format(numeros))"
      ],
      "metadata": {
        "colab": {
          "base_uri": "https://localhost:8080/"
        },
        "id": "fQueYR3o3BiI",
        "outputId": "78ad30fc-80d9-40bb-f6f0-84438ef3ec3f"
      },
      "execution_count": 10,
      "outputs": [
        {
          "output_type": "stream",
          "name": "stdout",
          "text": [
            "Olá!Seja bem vindo(a) a este programa !\n",
            "Digite o  primeiro número:1\n",
            "Digite o  segundo número:2\n",
            "Digite o  terceiro número:3\n",
            "Digite o  quarto número:4\n",
            "Digite o  quinto número:5\n",
            "Sua lista de números é: ['1', '2', '3', '4', '5']\n",
            "----------------------------------------\n",
            "Digite um novo número: 6\n",
            "Sua lista de números foi atualizada!\n",
            "Sua nova lista de números é ['1', '2', '3', '4', '5', '6']\n"
          ]
        }
      ]
    }
  ]
}