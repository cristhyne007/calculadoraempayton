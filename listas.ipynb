{
  "nbformat": 4,
  "nbformat_minor": 0,
  "metadata": {
    "colab": {
      "provenance": [],
      "authorship_tag": "ABX9TyMqqTbcE5d6Ph+ghXIgW7I2",
      "include_colab_link": true
    },
    "kernelspec": {
      "name": "python3",
      "display_name": "Python 3"
    },
    "language_info": {
      "name": "python"
    }
  },
  "cells": [
    {
      "cell_type": "markdown",
      "metadata": {
        "id": "view-in-github",
        "colab_type": "text"
      },
      "source": [
        "<a href=\"https://colab.research.google.com/github/cristhyne007/utilizando-python/blob/main/listas.ipynb\" target=\"_parent\"><img src=\"https://colab.research.google.com/assets/colab-badge.svg\" alt=\"Open In Colab\"/></a>"
      ]
    },
    {
      "cell_type": "code",
      "source": [
        "frutas=['Maçã','Banana','Abacaxi','Abacate']\n",
        "print(frutas[3])\n",
        "frutas.append(\"melancia\")\n",
        "print(frutas)\n",
        "if 'maçã' in frutas:\n",
        " print(\" a maçã está em frutas\")"
      ],
      "metadata": {
        "colab": {
          "base_uri": "https://localhost:8080/"
        },
        "id": "1ce-QAw8bReb",
        "outputId": "d49629b5-6658-4d01-af17-d86305415082"
      },
      "execution_count": 30,
      "outputs": [
        {
          "output_type": "stream",
          "name": "stdout",
          "text": [
            "Abacate\n",
            "['Maçã', 'Banana', 'Abacaxi', 'Abacate', 'melancia']\n"
          ]
        }
      ]
    },
    {
      "cell_type": "code",
      "source": [
        "usuario=['lais','rayssa','luis','alex','bia']\n",
        "senha=['8888','9999','2222','3333','7777']\n",
        "print(usuario[0])"
      ],
      "metadata": {
        "colab": {
          "base_uri": "https://localhost:8080/"
        },
        "id": "xKkCfZzjZKal",
        "outputId": "14c8993b-a074-4754-f50a-e9f6fd367f7f"
      },
      "execution_count": null,
      "outputs": [
        {
          "output_type": "stream",
          "name": "stdout",
          "text": [
            "lais\n"
          ]
        }
      ]
    },
    {
      "cell_type": "code",
      "source": [
        "usuario=['lais','rayssa','luis','alex','bia']\n",
        "print(len(usuario))"
      ],
      "metadata": {
        "colab": {
          "base_uri": "https://localhost:8080/"
        },
        "id": "RNNCe39gcjOR",
        "outputId": "9c86681d-ad2b-4c49-aadd-e1c0269da04e"
      },
      "execution_count": 17,
      "outputs": [
        {
          "output_type": "stream",
          "name": "stdout",
          "text": [
            "5\n"
          ]
        }
      ]
    },
    {
      "cell_type": "code",
      "execution_count": null,
      "metadata": {
        "id": "4kpTLjvNWsxb"
      },
      "outputs": [],
      "source": [
        "usuario=['lais','rayssa','luis','alex','bia']\n",
        "senha=[8888,9999,2222,3333,7777]\n",
        "senhaa=str(input(\"Digite a senha  do administrador: \"))\n",
        "usuarioa=int(input(\"Digite o nome do usuario:\"))\n",
        "if usuarioa in usuario and senhaa in senha:\n",
        " print(\"administrador\")\n",
        "\n"
      ]
    }
  ]
}