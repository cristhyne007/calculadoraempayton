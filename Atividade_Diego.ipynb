{
  "nbformat": 4,
  "nbformat_minor": 0,
  "metadata": {
    "colab": {
      "provenance": [],
      "authorship_tag": "ABX9TyPPOiJ02njBC7SbPzQiExRf",
      "include_colab_link": true
    },
    "kernelspec": {
      "name": "python3",
      "display_name": "Python 3"
    },
    "language_info": {
      "name": "python"
    }
  },
  "cells": [
    {
      "cell_type": "markdown",
      "metadata": {
        "id": "view-in-github",
        "colab_type": "text"
      },
      "source": [
        "<a href=\"https://colab.research.google.com/github/cristhyne007/calculadoraempayton/blob/main/Atividade_Diego.ipynb\" target=\"_parent\"><img src=\"https://colab.research.google.com/assets/colab-badge.svg\" alt=\"Open In Colab\"/></a>"
      ]
    },
    {
      "cell_type": "markdown",
      "source": [
        "1.Escreva um programa em Python que solicita dois números\n",
        "ao usuário e exibe a soma deles duas vezes, uma utilizando\n",
        "f-strings e outra utilizando o método .format()."
      ],
      "metadata": {
        "id": "egpp5VqzB35y"
      }
    },
    {
      "cell_type": "code",
      "execution_count": null,
      "metadata": {
        "colab": {
          "base_uri": "https://localhost:8080/"
        },
        "id": "VP9c1dXyBwqK",
        "outputId": "cc73e7cc-d6be-4ae2-ccb4-7962128bb3bf"
      },
      "outputs": [
        {
          "output_type": "stream",
          "name": "stdout",
          "text": [
            "Digite um número: 4\n",
            "Digite outro número: 8\n",
            "A soma será igual a 12.0\n",
            "A soma dos valores é igual a 12.0\n"
          ]
        }
      ],
      "source": [
        "numero1 = float(input(\"Digite um número: \"))\n",
        "numero2 = float(input(\"Digite outro número: \"))\n",
        "\n",
        "soma = numero1 + numero2\n",
        "\n",
        "print(\"A soma será igual a {}\".format(soma))\n",
        "print(f'A soma dos valores é igual a {soma}')"
      ]
    },
    {
      "cell_type": "markdown",
      "source": [],
      "metadata": {
        "id": "4HWGwfbcDhau"
      }
    },
    {
      "cell_type": "markdown",
      "source": [
        "2.Escreva um código em Python que declare três variáveis:\n",
        "nome do produto, preco do produto e disponibilidade. Em\n",
        "seguida, utilize tanto f-string quanto o método .format() para\n",
        "criar uma frase que inclua o nome do produto, seu preço e\n",
        "sua disponibilidade."
      ],
      "metadata": {
        "id": "Oo8k1_SRDkYS"
      }
    },
    {
      "cell_type": "code",
      "source": [
        "produto = 'kit de pinceis'\n",
        "preco = 30\n",
        "disponibilidade = 100\n",
        "print(\"\")\n",
        "print(f'Vende-se {produto} por {preco} reais,','desses {} só restam {}'.format(produto,disponibilidade))"
      ],
      "metadata": {
        "colab": {
          "base_uri": "https://localhost:8080/"
        },
        "id": "yUkdTG7KCZUN",
        "outputId": "abfe4819-a7e3-4d79-9839-f93a5b5be3aa"
      },
      "execution_count": null,
      "outputs": [
        {
          "output_type": "stream",
          "name": "stdout",
          "text": [
            "\n",
            "Vende-se kit de pinceis por 30 reais, desses kit de pinceis só restam 100\n"
          ]
        }
      ]
    },
    {
      "cell_type": "markdown",
      "source": [
        "3.Suponha que você tenha ido à livraria e comprado alguns livros. Aqui estão os detalhes da\n",
        "sua compra:\n",
        "• Produto: Livro\n",
        "• Preço unitário: R$35.50\n",
        "• Quantidade comprada: 2\n",
        "• Desconto aplicado: 10%\n",
        "Faça um programa em Python que solicite ao usuário inserir os seguintes detalhes da\n",
        "compra:\n",
        "• Preço unitário do livro.\n",
        "• Quantidade de livros comprados.\n",
        "• Porcentagem de desconto aplicado.\n",
        "Em seguida, o programa deve calcular e exibir:\n",
        "• O subtotal da compra.\n",
        "• O valor do desconto aplicado.\n",
        "• O total a pagar após o desconto."
      ],
      "metadata": {
        "id": "xGYGCiUQJFDb"
      }
    },
    {
      "cell_type": "code",
      "source": [
        "\n",
        "produto = 'livros'\n",
        "print('Olá,seja bem vindo(a) a Universitária')\n",
        "preço_unitario = float(input('Digite o preço unitário do {}: '.format(produto)))\n",
        "quantidade_livros = float(input('Digite a quantidade de {} que deseja comprar: '.format(produto)))\n",
        "desconto = float(input('Digite o valor do desconto aplicado: '))\n",
        "\n",
        "subtotal = preço_unitario * quantidade_livros\n",
        "valor_desconto = subtotal * desconto\n",
        "preço_total = subtotal - valor_desconto\n",
        "print('')\n",
        "print('O subtotal de sua compra é {0:.2f} reais e seu desconto é de {1:.2f} reais,no total seu valor é igual a {2:.2f}'.format(subtotal,valor_desconto,preço_total,))"
      ],
      "metadata": {
        "colab": {
          "base_uri": "https://localhost:8080/"
        },
        "id": "S5sLAJFXDswO",
        "outputId": "af318dd3-bc81-4eb4-c525-39a55d1734a0"
      },
      "execution_count": null,
      "outputs": [
        {
          "output_type": "stream",
          "name": "stdout",
          "text": [
            "Olá,seja bem vindo(a) a Universitária\n",
            "Digite o preço unitário do livros: 35.50\n",
            "Digite a quantidade de livros que deseja comprar: 2\n",
            "Digite o valor do desconto aplicado: 10\n",
            "\n",
            "O subtotal de sua compra é 71.00 reais e seu desconto é de 710.00 reais,no total seu valor é igual a -639.00\n"
          ]
        }
      ]
    }
  ]
}