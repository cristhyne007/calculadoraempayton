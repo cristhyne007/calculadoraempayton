{
  "nbformat": 4,
  "nbformat_minor": 0,
  "metadata": {
    "colab": {
      "provenance": [],
      "authorship_tag": "ABX9TyOuhwzCJTJBwSudMpvFkySW",
      "include_colab_link": true
    },
    "kernelspec": {
      "name": "python3",
      "display_name": "Python 3"
    },
    "language_info": {
      "name": "python"
    }
  },
  "cells": [
    {
      "cell_type": "markdown",
      "metadata": {
        "id": "view-in-github",
        "colab_type": "text"
      },
      "source": [
        "<a href=\"https://colab.research.google.com/github/cristhyne007/calculadoraempayton/blob/main/calculadora_.ipynb\" target=\"_parent\"><img src=\"https://colab.research.google.com/assets/colab-badge.svg\" alt=\"Open In Colab\"/></a>"
      ]
    },
    {
      "cell_type": "code",
      "execution_count": 7,
      "metadata": {
        "colab": {
          "base_uri": "https://localhost:8080/"
        },
        "id": "Gias0JE3E5lE",
        "outputId": "49e89cf4-7b22-4d69-a270-b1278636a40f"
      },
      "outputs": [
        {
          "output_type": "stream",
          "name": "stdout",
          "text": [
            "Selecione a operação desejada:\n",
            "1.Adição\n",
            "2.Subtração\n",
            "3.Multiplicação\n",
            "4.Divisão\n",
            "Digite o número da operação desejada(1/2/3/4):1\n",
            "Digite o primeiro número:4\n",
            "Digite o segundo número6\n",
            "Resultado 10.0\n"
          ]
        }
      ],
      "source": [
        "print(\"Selecione a operação desejada:\")\n",
        "print(\"1.Adição\")\n",
        "print(\"2.Subtração\")\n",
        "print(\"3.Multiplicação\")\n",
        "print(\"4.Divisão\")\n",
        "\n",
        "opcao=input(\"Digite o número da operação desejada(1/2/3/4):\")\n",
        "\n",
        "numero1=float(input(\"Digite o primeiro número:\"))\n",
        "numero2=float(input(\"Digite o segundo número\"))\n",
        "\n",
        "if opcao=='1':\n",
        "   resultado=numero1+numero2\n",
        "   print(\"Resultado\",resultado)\n",
        "elif opcao=='2':\n",
        "   resultado=numero1-numero2\n",
        "   print(\"Resultado\",resultado)\n",
        "elif opcao=='3':\n",
        "   resultado=numero1*numero2\n",
        "   print(\"Resultado\",resultado)\n",
        "elif opcao=='4':\n",
        "  if numero2!=0:\n",
        "    resultado=numero1/numero2\n",
        "    print(\"Resultado\",resultado)\n",
        "  else:\n",
        "    print(\"Erro:Divisão por zero!\")\n",
        "else:\n",
        "    print(\"Opção inválida.Por favor escolha uma opção válida.\")\n"
      ]
    }
  ]
}